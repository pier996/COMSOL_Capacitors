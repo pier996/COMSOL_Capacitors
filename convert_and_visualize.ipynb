{
 "cells": [
  {
   "cell_type": "code",
   "execution_count": 1,
   "id": "61089291-3042-4b3f-94ea-c32281334015",
   "metadata": {},
   "outputs": [],
   "source": [
    "%matplotlib qt\n",
    "import numpy as np\n",
    "import matplotlib.pyplot as plt\n",
    "import fpd\n",
    "from fpd.fpd_file import MerlinBinary\n",
    "import fpd.fpd_file as fpdf\n",
    "import hyperspy.api as hs"
   ]
  },
  {
   "cell_type": "code",
   "execution_count": 2,
   "id": "13aa3bdd-a85c-46e5-b580-d7fa9f46bbf9",
   "metadata": {},
   "outputs": [
    {
     "name": "stderr",
     "output_type": "stream",
     "text": [
      "INFO: Detected 2nd version: '0.77.0.16'\n",
      "INFO:fpd.fpd_file:Detected 2nd version: '0.77.0.16'\n",
      "INFO: Removing singular colour axis.\n",
      "INFO:fpd.fpd_file:Removing singular colour axis.\n",
      "INFO: FPD data shape: [200, 70, 256, 256]\n",
      "INFO:fpd.fpd_file:FPD data shape: [200, 70, 256, 256]\n",
      "C:\\Users\\Vaso05\\AppData\\Roaming\\Python\\Python38\\site-packages\\fpd\\fpd_file.py:1593: RuntimeWarning: overflow encountered in long_scalars\n",
      "  self.nbytes = (self.dtype.itemsize * 8) * self.size\n",
      "INFO: FPD data chunking: (200, 70, 256, 256)\n",
      "INFO:fpd.fpd_file:FPD data chunking: (200, 70, 256, 256)\n",
      "INFO: Output: C:\\Users\\Vaso05\\Desktop\\Python\\capacitors\\data\\014.hdf5\n",
      "INFO:fpd.fpd_file:Output: C:\\Users\\Vaso05\\Desktop\\Python\\capacitors\\data\\014.hdf5\n",
      "INFO: Memory mapping the file is possible, so repacking is disabled.\n",
      "INFO:fpd.fpd_file:Memory mapping the file is possible, so repacking is disabled.\n",
      "100%|███████████████████████████████████████████████████████████████████████| 14000/14000 [00:37<00:00, 376.73images/s]\n",
      "INFO: Packing memmaped data.\n",
      "INFO:fpd.fpd_file:Packing memmaped data.\n",
      "100%|████████████████████████████████████████████████████████████████████████████████| 1/1 [00:45<00:00, 45.43s/chunks]\n",
      "  0%|                                                                                    | 0/14000 [00:00<?, ?images/s]"
     ]
    },
    {
     "name": "stdout",
     "output_type": "stream",
     "text": [
      "Calculating real-space sum images.\n"
     ]
    },
    {
     "name": "stderr",
     "output_type": "stream",
     "text": [
      "100%|██████████████████████████████████████████████████████████████████████| 14000/14000 [00:07<00:00, 1963.23images/s]\n",
      "  0%|                                                                                    | 0/14000 [00:00<?, ?images/s]"
     ]
    },
    {
     "name": "stdout",
     "output_type": "stream",
     "text": [
      "Calculating diffraction sum images.\n"
     ]
    },
    {
     "name": "stderr",
     "output_type": "stream",
     "text": [
      "100%|██████████████████████████████████████████████████████████████████████| 14000/14000 [00:07<00:00, 1900.29images/s]\n"
     ]
    },
    {
     "data": {
      "text/plain": [
       "'data/014.hdf5'"
      ]
     },
     "execution_count": 2,
     "metadata": {},
     "output_type": "execute_result"
    }
   ],
   "source": [
    "# accessing the merlin binary files, running this line before the next could be useful to read the chunks value (in INFO data shape)\n",
    "mb = MerlinBinary(binfns='data/014.mib', hdrfn='data/014.hdr', dmfns=['data/SI17.dm4'])\n",
    "#converting the merlin binary files in hdf5\n",
    "mb.write_hdf5(chunks=(200,70,256,256))"
   ]
  },
  {
   "cell_type": "code",
   "execution_count": 3,
   "id": "18f0d9f1-765e-4b68-9b3d-4fe5c321494f",
   "metadata": {},
   "outputs": [
    {
     "name": "stderr",
     "output_type": "stream",
     "text": [
      "WARNING: HyperSpy versions (1.5.2, 1.7.0) don't return the metadata needed by this function.\n",
      "WARNING:fpd.fpd_file:HyperSpy versions (1.5.2, 1.7.0) don't return the metadata needed by this function.\n",
      "WARNING: Your current version is \"1.6.2\". Try downgrading HyperSpy to version 1.5.2.\n",
      "WARNING:fpd.fpd_file:Your current version is \"1.6.2\". Try downgrading HyperSpy to version 1.5.2.\n",
      "WARNING: See https://gitlab.com/fpdpy/fpd/-/issues/41 for details.\n",
      "WARNING:fpd.fpd_file:See https://gitlab.com/fpdpy/fpd/-/issues/41 for details.\n"
     ]
    },
    {
     "name": "stdout",
     "output_type": "stream",
     "text": [
      "Detected emd groups: ['DAC', 'DM0', 'Exposure', 'Threshold', 'Unixtime', 'binary_hdr', 'fpd_data', 'fpd_sum_dif', 'fpd_sum_im']\n"
     ]
    },
    {
     "name": "stdin",
     "output_type": "stream",
     "text": [
      "Overwrite 'C:\\Users\\Vaso05\\Desktop\\Python\\capacitors\\data\\013_hs.hdf5' (y/n)?\n",
      " y\n"
     ]
    }
   ],
   "source": [
    "# from https://gitlab.com/fpdpy/fpd/-/blob/master/fpd/fpd_file.py#L3080 \n",
    "import fpd.fpd_file as fpdf\n",
    "fpd_signals = fpdf.fpd_to_hyperspy('data/013.hdf5')\n",
    "im = fpd_signals.fpd_data\n",
    "\n",
    "# now operating with a hyperspy object\n",
    "im.save('data/013_hs.hdf5')"
   ]
  },
  {
   "cell_type": "code",
   "execution_count": 5,
   "id": "886804d3-631d-495e-9aa4-050932611b14",
   "metadata": {},
   "outputs": [],
   "source": [
    "#open the hdf5 file with hyperspy\n",
    "s = hs.load('data/013_hs.hdf5')"
   ]
  },
  {
   "cell_type": "code",
   "execution_count": 7,
   "id": "d988ff85-53a9-4678-a46a-b8f13efa39af",
   "metadata": {},
   "outputs": [],
   "source": [
    "#open the file for visualization\n",
    "s.plot()"
   ]
  }
 ],
 "metadata": {
  "kernelspec": {
   "display_name": "Python 3",
   "language": "python",
   "name": "python3"
  },
  "language_info": {
   "codemirror_mode": {
    "name": "ipython",
    "version": 3
   },
   "file_extension": ".py",
   "mimetype": "text/x-python",
   "name": "python",
   "nbconvert_exporter": "python",
   "pygments_lexer": "ipython3",
   "version": "3.8.8"
  }
 },
 "nbformat": 4,
 "nbformat_minor": 5
}
